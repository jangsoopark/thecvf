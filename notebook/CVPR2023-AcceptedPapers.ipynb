{
 "cells": [
  {
   "cell_type": "code",
   "execution_count": 1,
   "id": "ca01dae6",
   "metadata": {
    "scrolled": true
   },
   "outputs": [
    {
     "name": "stdout",
     "output_type": "stream",
     "text": [
      "Requirement already satisfied: rake-nltk in c:\\users\\jangsoopark\\desktop\\thecvf\\venv\\lib\\site-packages (1.0.6)\n",
      "Requirement already satisfied: nltk<4.0.0,>=3.6.2 in c:\\users\\jangsoopark\\desktop\\thecvf\\venv\\lib\\site-packages (from rake-nltk) (3.8.1)\n",
      "Requirement already satisfied: click in c:\\users\\jangsoopark\\desktop\\thecvf\\venv\\lib\\site-packages (from nltk<4.0.0,>=3.6.2->rake-nltk) (8.1.3)\n",
      "Requirement already satisfied: joblib in c:\\users\\jangsoopark\\desktop\\thecvf\\venv\\lib\\site-packages (from nltk<4.0.0,>=3.6.2->rake-nltk) (1.2.0)\n",
      "Requirement already satisfied: regex>=2021.8.3 in c:\\users\\jangsoopark\\desktop\\thecvf\\venv\\lib\\site-packages (from nltk<4.0.0,>=3.6.2->rake-nltk) (2023.5.5)\n",
      "Requirement already satisfied: tqdm in c:\\users\\jangsoopark\\desktop\\thecvf\\venv\\lib\\site-packages (from nltk<4.0.0,>=3.6.2->rake-nltk) (4.64.1)\n",
      "Requirement already satisfied: colorama in c:\\users\\jangsoopark\\desktop\\thecvf\\venv\\lib\\site-packages (from click->nltk<4.0.0,>=3.6.2->rake-nltk) (0.4.6)\n"
     ]
    }
   ],
   "source": [
    "!pip install rake-nltk"
   ]
  },
  {
   "cell_type": "code",
   "execution_count": 2,
   "id": "9378094e",
   "metadata": {},
   "outputs": [],
   "source": [
    "from bs4 import BeautifulSoup\n",
    "\n",
    "import requests\n",
    "\n",
    "import nltk\n",
    "\n",
    "try:\n",
    "    from rake_nltk import Rake\n",
    "except LookupError:\n",
    "    \n",
    "    nltk.download('stopwords')\n",
    "    nltk.download('punkt')\n",
    "    nltk.download('wordnet')"
   ]
  },
  {
   "cell_type": "code",
   "execution_count": 3,
   "id": "be0a921e",
   "metadata": {},
   "outputs": [],
   "source": [
    "response = requests.get('https://cvpr2023.thecvf.com/Conferences/2023/AcceptedPapers')\n",
    "html = response.text.replace('\\n', '')\n",
    "bs = BeautifulSoup(html, 'html.parser')"
   ]
  },
  {
   "cell_type": "code",
   "execution_count": 4,
   "id": "4e27964f",
   "metadata": {},
   "outputs": [],
   "source": [
    "contents = bs.find_all('table')[-1]"
   ]
  },
  {
   "cell_type": "code",
   "execution_count": 5,
   "id": "d0d100b2",
   "metadata": {},
   "outputs": [
    {
     "name": "stdout",
     "output_type": "stream",
     "text": [
      "The number of accpted Papers : 2359\n"
     ]
    }
   ],
   "source": [
    "paper_lists = contents.find_all('tr')\n",
    "paper_lists = [e for e in paper_lists if e.find('td') is not None]\n",
    "print(f\"The number of accpted Papers : {len(paper_lists)}\")"
   ]
  },
  {
   "cell_type": "code",
   "execution_count": 12,
   "id": "0973dc34",
   "metadata": {},
   "outputs": [],
   "source": [
    "papers = []\n",
    "\n",
    "r = Rake()\n",
    "keywords = []\n",
    "\n",
    "for paper in paper_lists:\n",
    "    e, *_ = paper.find_all('td')\n",
    "    title = e.find('a') if e.find('a') else e.find('strong')\n",
    "    url = title['href'] if title.name == 'a' else None\n",
    "    title = title.text\n",
    "    \n",
    "    _, _, _, *authors = e.text.replace(title, '').replace('·', '').strip().split()    \n",
    "    authors = ' '.join(authors)\n",
    "    r.extract_keywords_from_text(title)\n",
    "    \n",
    "    keywords.extend(r.get_ranked_phrases())\n",
    "    \n",
    "    papers.append({\n",
    "        'title': title,\n",
    "        'url': '' if url is None else url,\n",
    "        'authors': authors,\n",
    "        'keyword': r.get_ranked_phrases_with_scores()\n",
    "    })"
   ]
  },
  {
   "cell_type": "code",
   "execution_count": 28,
   "id": "e1d55f13",
   "metadata": {},
   "outputs": [
    {
     "name": "stdout",
     "output_type": "stream",
     "text": [
      "0 Iterative Next Boundary Detection for Instance Segmentation of Tree Rings in Microscopy Images of Shrub Cross Sections Alexander Gillert Giulia Resente Alba Anadon-Rosell Martin Wilmking Uwe Freiherr von Lukas\n",
      "1 Multi-Space Neural Radiance Fields Ze-Xin Yin Jiaxiong Qiu Ming-Ming Cheng Bo Ren\n",
      "2 Towards Realistic Long-Tailed Semi-Supervised Learning: Consistency Is All You Need Tong Wei Kai Gan\n",
      "3 Learning Optical Expansion from Scale Matching Han Ling Yinghui Sun Sun Quansen Zhenwen Ren\n",
      "4 CNVid-3.5M: Build, Filter, and Pre-train the Large-scale Public Chinese Video-text Dataset Tian Gan Qing Wang Xingning Dong Xiangyuan Ren Liqiang Nie Qingpei Guo\n",
      "5 Bi-directional Feature Fusion Generative Adversarial Network for Ultra-high Resolution Pathological Image Virtual Re-staining Kexin Sun Zhineng Chen Gongwei Wang Jun Liu Xiongjun Ye Yu-Gang Jiang\n",
      "6 Sparsely Annotated Semantic Segmentation with Adaptive Gaussian Mixtures Linshan Wu Zhun Zhong Leyuan Fang Xingxin He Qiang Liu Jiayi Ma Hao Chen\n",
      "7 CLOTH4D: A Dataset for Clothed Human Reconstruction XINGXING ZOU Xintong Han Waikeung Wong\n",
      "8 Joint Video Multi-Frame Interpolation and Deblurring under Unknown Exposure Time Wei Shang Dongwei Ren yi yang Hongzhi Zhang Kede Ma Wangmeng Zuo\n",
      "9 SIM: Semantic-aware Instance Mask Generation for Box-Supervised Instance Segmentation Ruihuang Li Chenhang HE Yabin Zhang Shuai Li Liyi Chen Lei Zhang\n"
     ]
    }
   ],
   "source": [
    "for i, p in enumerate(papers[:10]):\n",
    "    print(i, p['title'], p['authors'])"
   ]
  },
  {
   "cell_type": "code",
   "execution_count": null,
   "id": "92333cea",
   "metadata": {},
   "outputs": [],
   "source": []
  }
 ],
 "metadata": {
  "kernelspec": {
   "display_name": "Python 3 (ipykernel)",
   "language": "python",
   "name": "python3"
  },
  "language_info": {
   "codemirror_mode": {
    "name": "ipython",
    "version": 3
   },
   "file_extension": ".py",
   "mimetype": "text/x-python",
   "name": "python",
   "nbconvert_exporter": "python",
   "pygments_lexer": "ipython3",
   "version": "3.8.10"
  }
 },
 "nbformat": 4,
 "nbformat_minor": 5
}
